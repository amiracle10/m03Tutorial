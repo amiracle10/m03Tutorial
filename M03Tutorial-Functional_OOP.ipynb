{
 "cells": [
  {
   "cell_type": "code",
   "execution_count": 8,
   "id": "546271f3-d1d4-4420-9fab-ac94c93951d5",
   "metadata": {},
   "outputs": [
    {
     "name": "stdin",
     "output_type": "stream",
     "text": [
      "Enter 0 1 2 0 1 2 with the spaces between:  0 1 2 0 1 2\n"
     ]
    },
    {
     "name": "stdout",
     "output_type": "stream",
     "text": [
      "Output: 0 0 1 1 2 2\n"
     ]
    }
   ],
   "source": [
    "class Solution:\n",
    "    def sort012(self, arr):\n",
    "        low, mid, high = 0, 0, len(arr) - 1\n",
    "\n",
    "        while mid <= high:\n",
    "            if arr[mid] == 0:\n",
    "                arr[low], arr[mid] = arr[mid], arr[low]\n",
    "                low += 1\n",
    "                mid += 1\n",
    "            elif arr[mid] == 1:\n",
    "                mid += 1\n",
    "            else:\n",
    "                arr[mid], arr[high] = arr[high], arr[mid]\n",
    "                high -= 1\n",
    "\n",
    "        return arr  \n",
    "\n",
    "if __name__ == \"__main__\":\n",
    "  \n",
    "    arr = list(map(int, input(\"Enter 0 1 2 0 1 2 with the spaces between: \").split()))\n",
    "\n",
    "    solution = Solution()\n",
    "    \n",
    "    sorted_arr = solution.sort012(arr)\n",
    "    \n",
    "    print(\"Output:\", \" \".join(map(str, sorted_arr)))"
   ]
  },
  {
   "cell_type": "code",
   "execution_count": 10,
   "id": "59c47050-99fa-405c-8d87-3062d684f175",
   "metadata": {},
   "outputs": [
    {
     "name": "stdin",
     "output_type": "stream",
     "text": [
      "Enter 1 2 3 4 5 with the spaces:  1 2 3 4 5\n",
      "Enter 4:  4\n"
     ]
    },
    {
     "name": "stdout",
     "output_type": "stream",
     "text": [
      "3\n"
     ]
    }
   ],
   "source": [
    "class Solution:\n",
    "    def bin_search(self, arr, left, right, k):\n",
    "        if left > right:\n",
    "            return -1\n",
    "        mid = (left + right) // 2\n",
    "        if arr[mid] == k:\n",
    "            return mid\n",
    "        if arr[mid] > k:\n",
    "            return self.bin_search(arr, left, mid - 1, k)\n",
    "        else: \n",
    "            return self.bin_search(arr, mid + 1, right, k)\n",
    "            \n",
    "    def binarysearch(self, arr, k):\n",
    "        n = len(arr)\n",
    "        return self.bin_search(arr, 0, n-1, k)\n",
    "\n",
    "arr = list(map(int, input(\"Enter 1 2 3 4 5 with the spaces: \").split()))  \n",
    "k = int(input(\"Enter 4: \"))  \n",
    "solution = Solution()\n",
    "print(solution.binarysearch(arr, k))  "
   ]
  },
  {
   "cell_type": "code",
   "execution_count": null,
   "id": "e295b4e4-d468-42a8-8ba6-812d166c7501",
   "metadata": {},
   "outputs": [],
   "source": []
  }
 ],
 "metadata": {
  "kernelspec": {
   "display_name": "Python 3 (ipykernel)",
   "language": "python",
   "name": "python3"
  },
  "language_info": {
   "codemirror_mode": {
    "name": "ipython",
    "version": 3
   },
   "file_extension": ".py",
   "mimetype": "text/x-python",
   "name": "python",
   "nbconvert_exporter": "python",
   "pygments_lexer": "ipython3",
   "version": "3.12.7"
  }
 },
 "nbformat": 4,
 "nbformat_minor": 5
}
